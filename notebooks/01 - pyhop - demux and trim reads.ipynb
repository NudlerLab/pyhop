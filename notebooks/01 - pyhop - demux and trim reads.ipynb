{
 "cells": [
  {
   "cell_type": "code",
   "execution_count": 1,
   "metadata": {
    "collapsed": true
   },
   "outputs": [],
   "source": [
    "from pyhop.dmux import dmux_and_trim"
   ]
  },
  {
   "cell_type": "code",
   "execution_count": 2,
   "metadata": {
    "collapsed": true
   },
   "outputs": [],
   "source": [
    "samples = {\n",
    "    'control_pool_phageP1': 'TTTT',\n",
    "    'control_t1_phageP1': 'GACCA',\n",
    "    'infection_24_phageP1':'CGACGT',\n",
    "    'infection_28_phageP1':'ACGAGGA',\n",
    "    'rif_wt_pool':'TACGAGTC',\n",
    "    'rif_H526Y_pool':'GTACGATCG'\n",
    "}"
   ]
  },
  {
   "cell_type": "code",
   "execution_count": 3,
   "metadata": {
    "scrolled": false
   },
   "outputs": [
    {
     "name": "stdout",
     "output_type": "stream",
     "text": [
      "\tcreated output file:\tACGAGGA_trimmed.fastq.gz\n",
      "\tcreated output file:\tTACGAGTC_trimmed.fastq.gz\n",
      "\tcreated output file:\tGACCA_trimmed.fastq.gz\n",
      "\tcreated output file:\tGTACGATCG_trimmed.fastq.gz\n",
      "\tcreated output file:\tCGACGT_trimmed.fastq.gz\n",
      "\tcreated output file:\tTTTT_trimmed.fastq.gz\n",
      "processed: 100000 reads...\n",
      "processed: 300000 reads...\n",
      "processed: 400000 reads...\n",
      "processed: 500000 reads...\n",
      "processed: 600000 reads...\n",
      "processed: 700000 reads...\n",
      "processed: 800000 reads...\n",
      "processed: 900000 reads...\n",
      "\tcreated output file:\tACGAGGA_trimmed.fastq.gz\n",
      "\tcreated output file:\tTACGAGTC_trimmed.fastq.gz\n",
      "\tcreated output file:\tGACCA_trimmed.fastq.gz\n",
      "\tcreated output file:\tGTACGATCG_trimmed.fastq.gz\n",
      "\tcreated output file:\tCGACGT_trimmed.fastq.gz\n",
      "\tcreated output file:\tTTTT_trimmed.fastq.gz\n",
      "processed: 100000 reads...\n",
      "processed: 300000 reads...\n",
      "processed: 400000 reads...\n",
      "processed: 500000 reads...\n",
      "processed: 600000 reads...\n",
      "processed: 700000 reads...\n",
      "processed: 800000 reads...\n",
      "processed: 900000 reads...\n",
      "\tcreated output file:\tACGAGGA_trimmed.fastq.gz\n",
      "\tcreated output file:\tTACGAGTC_trimmed.fastq.gz\n",
      "\tcreated output file:\tGACCA_trimmed.fastq.gz\n",
      "\tcreated output file:\tGTACGATCG_trimmed.fastq.gz\n",
      "\tcreated output file:\tCGACGT_trimmed.fastq.gz\n",
      "\tcreated output file:\tTTTT_trimmed.fastq.gz\n",
      "processed: 100000 reads...\n",
      "processed: 300000 reads...\n",
      "processed: 400000 reads...\n",
      "processed: 500000 reads...\n",
      "processed: 600000 reads...\n",
      "processed: 700000 reads...\n",
      "processed: 800000 reads...\n",
      "processed: 900000 reads...\n",
      "\tcreated output file:\tACGAGGA_trimmed.fastq.gz\n",
      "\tcreated output file:\tTACGAGTC_trimmed.fastq.gz\n",
      "\tcreated output file:\tGACCA_trimmed.fastq.gz\n",
      "\tcreated output file:\tGTACGATCG_trimmed.fastq.gz\n",
      "\tcreated output file:\tCGACGT_trimmed.fastq.gz\n",
      "\tcreated output file:\tTTTT_trimmed.fastq.gz\n",
      "processed: 100000 reads...\n",
      "processed: 300000 reads...\n",
      "processed: 400000 reads...\n",
      "processed: 500000 reads...\n",
      "processed: 600000 reads...\n",
      "processed: 700000 reads...\n",
      "processed: 800000 reads...\n",
      "processed: 900000 reads...\n",
      "\tcreated output file:\tACGAGGA_trimmed.fastq.gz\n",
      "\tcreated output file:\tTACGAGTC_trimmed.fastq.gz\n",
      "\tcreated output file:\tGACCA_trimmed.fastq.gz\n",
      "\tcreated output file:\tGTACGATCG_trimmed.fastq.gz\n",
      "\tcreated output file:\tCGACGT_trimmed.fastq.gz\n",
      "\tcreated output file:\tTTTT_trimmed.fastq.gz\n",
      "processed: 100000 reads...\n",
      "processed: 300000 reads...\n",
      "processed: 400000 reads...\n",
      "processed: 500000 reads...\n",
      "processed: 600000 reads...\n",
      "processed: 700000 reads...\n",
      "processed: 800000 reads...\n",
      "processed: 900000 reads...\n",
      "\tcreated output file:\tACGAGGA_trimmed.fastq.gz\n",
      "\tcreated output file:\tTACGAGTC_trimmed.fastq.gz\n",
      "\tcreated output file:\tGACCA_trimmed.fastq.gz\n",
      "\tcreated output file:\tGTACGATCG_trimmed.fastq.gz\n",
      "\tcreated output file:\tCGACGT_trimmed.fastq.gz\n",
      "\tcreated output file:\tTTTT_trimmed.fastq.gz\n",
      "processed: 100000 reads...\n",
      "processed: 300000 reads...\n",
      "processed: 400000 reads...\n",
      "processed: 500000 reads...\n",
      "processed: 600000 reads...\n",
      "processed: 700000 reads...\n",
      "processed: 800000 reads...\n",
      "processed: 900000 reads...\n",
      "\tcreated output file:\tACGAGGA_trimmed.fastq.gz\n",
      "\tcreated output file:\tTACGAGTC_trimmed.fastq.gz\n",
      "\tcreated output file:\tGACCA_trimmed.fastq.gz\n",
      "\tcreated output file:\tGTACGATCG_trimmed.fastq.gz\n",
      "\tcreated output file:\tCGACGT_trimmed.fastq.gz\n",
      "\tcreated output file:\tTTTT_trimmed.fastq.gz\n",
      "processed: 100000 reads...\n",
      "processed: 300000 reads...\n",
      "processed: 400000 reads...\n",
      "processed: 500000 reads...\n",
      "processed: 600000 reads...\n",
      "processed: 700000 reads...\n",
      "processed: 800000 reads...\n",
      "processed: 900000 reads...\n",
      "\tcreated output file:\tACGAGGA_trimmed.fastq.gz\n",
      "\tcreated output file:\tTACGAGTC_trimmed.fastq.gz\n",
      "\tcreated output file:\tGACCA_trimmed.fastq.gz\n",
      "\tcreated output file:\tGTACGATCG_trimmed.fastq.gz\n",
      "\tcreated output file:\tCGACGT_trimmed.fastq.gz\n",
      "\tcreated output file:\tTTTT_trimmed.fastq.gz\n",
      "processed: 100000 reads...\n",
      "processed: 300000 reads...\n",
      "processed: 400000 reads...\n",
      "processed: 500000 reads...\n",
      "processed: 600000 reads...\n",
      "processed: 700000 reads...\n",
      "processed: 800000 reads...\n",
      "processed: 900000 reads...\n",
      "33.2 s ± 52 ms per loop (mean ± std. dev. of 7 runs, 1 loop each)\n"
     ]
    }
   ],
   "source": [
    "%%timeit\n",
    "dmux_and_trim('../data/fastq/ecoli/R1.sampled.fastq.gz', samples, progress=100000)"
   ]
  },
  {
   "cell_type": "code",
   "execution_count": 4,
   "metadata": {},
   "outputs": [
    {
     "name": "stdout",
     "output_type": "stream",
     "text": [
      "\tcreated output file:\tACGAGGA_trimmed.fastq.gz\n",
      "\tcreated output file:\tTACGAGTC_trimmed.fastq.gz\n",
      "\tcreated output file:\tGACCA_trimmed.fastq.gz\n",
      "\tcreated output file:\tGTACGATCG_trimmed.fastq.gz\n",
      "\tcreated output file:\tCGACGT_trimmed.fastq.gz\n",
      "\tcreated output file:\tTTTT_trimmed.fastq.gz\n",
      "processed: 100000 reads...\n",
      "processed: 300000 reads...\n",
      "processed: 400000 reads...\n",
      "processed: 500000 reads...\n",
      "processed: 600000 reads...\n",
      "processed: 700000 reads...\n",
      "processed: 800000 reads...\n",
      "processed: 900000 reads...\n"
     ]
    }
   ],
   "source": [
    "stat = dmux_and_trim('../data/fastq/ecoli/R1.sampled.fastq.gz', samples, progress=100000)"
   ]
  },
  {
   "cell_type": "code",
   "execution_count": 5,
   "metadata": {},
   "outputs": [
    {
     "data": {
      "text/plain": [
       "{'ACGAGGA': 123590,\n",
       " 'CGACGT': 159172,\n",
       " 'GACCA': 164186,\n",
       " 'GTACGATCG': 87612,\n",
       " 'TACGAGTC': 110081,\n",
       " 'TTTT': 165863}"
      ]
     },
     "execution_count": 5,
     "metadata": {},
     "output_type": "execute_result"
    }
   ],
   "source": [
    "stat"
   ]
  }
 ],
 "metadata": {
  "kernelspec": {
   "display_name": "Python 3",
   "language": "python",
   "name": "python3"
  },
  "language_info": {
   "codemirror_mode": {
    "name": "ipython",
    "version": 3
   },
   "file_extension": ".py",
   "mimetype": "text/x-python",
   "name": "python",
   "nbconvert_exporter": "python",
   "pygments_lexer": "ipython3",
   "version": "3.5.2"
  }
 },
 "nbformat": 4,
 "nbformat_minor": 2
}
