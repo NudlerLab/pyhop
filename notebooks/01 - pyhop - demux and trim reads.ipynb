{
 "cells": [
  {
   "cell_type": "code",
   "execution_count": null,
   "metadata": {},
   "outputs": [],
   "source": [
    "from pyhop.dmux import dmux_and_trim"
   ]
  },
  {
   "cell_type": "code",
   "execution_count": null,
   "metadata": {
    "collapsed": true
   },
   "outputs": [],
   "source": [
    "samples = {\n",
    "    'control_pool_phageP1': 'TTTT',\n",
    "    'control_t1_phageP1': 'GACCA',\n",
    "    'infection_24_phageP1':'CGACGT',\n",
    "    'infection_28_phageP1':'ACGAGGA',\n",
    "    'rif_wt_pool':'TACGAGTC',\n",
    "    'rif_H526Y_pool':'GTACGATCG'\n",
    "}"
   ]
  },
  {
   "cell_type": "code",
   "execution_count": null,
   "metadata": {},
   "outputs": [],
   "source": [
    "%%timeit\n",
    "dmux_and_trim('../data/fastq/ecoli/R1.fastq.gz', samples, progress=100000)"
   ]
  },
  {
   "cell_type": "code",
   "execution_count": null,
   "metadata": {
    "collapsed": true
   },
   "outputs": [],
   "source": []
  }
 ],
 "metadata": {
  "kernelspec": {
   "display_name": "Python 3",
   "language": "python",
   "name": "python3"
  },
  "language_info": {
   "codemirror_mode": {
    "name": "ipython",
    "version": 3
   },
   "file_extension": ".py",
   "mimetype": "text/x-python",
   "name": "python",
   "nbconvert_exporter": "python",
   "pygments_lexer": "ipython3",
   "version": "3.5.2"
  }
 },
 "nbformat": 4,
 "nbformat_minor": 2
}
